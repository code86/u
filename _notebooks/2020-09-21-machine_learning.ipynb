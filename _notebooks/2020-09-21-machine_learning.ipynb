{
 "cells": [
  {
   "cell_type": "markdown",
   "metadata": {},
   "source": [
    "# \"weekly exercise\"\n",
    "> \"tensorflow/keras; sklearn; \"\n",
    "\n",
    "- toc: false\n",
    "- branch: master\n",
    "- badges: false\n",
    "- comments: false\n",
    "- hide: true\n",
    "- search_exclude: true"
   ]
  },
  {
   "cell_type": "markdown",
   "metadata": {},
   "source": [
    "# Linear Regression \n",
    "\n",
    "Let us first review [linear regression](https://developers.google.com/machine-learning/crash-course/descending-into-ml/linear-regression). \n",
    "\n",
    "Your exercise is to repeat the following analysis using a neural network. "
   ]
  },
  {
   "cell_type": "code",
   "execution_count": 3,
   "metadata": {},
   "outputs": [],
   "source": [
    "import numpy as np\n",
    "import pandas as pd\n",
    "\n",
    "df1 = pd.read_stata('http://www.stata-press.com/data/r11/auto.dta')"
   ]
  },
  {
   "cell_type": "code",
   "execution_count": 4,
   "metadata": {},
   "outputs": [
    {
     "data": {
      "text/plain": [
       "[array([60.15586182]), array([[-0.20676881]])]"
      ]
     },
     "execution_count": 4,
     "metadata": {},
     "output_type": "execute_result"
    }
   ],
   "source": [
    "from sklearn import linear_model as lm\n",
    "\n",
    "X = df1[['length']].to_numpy()\n",
    "Y = df1[['mpg']].to_numpy()\n",
    "lm = lm.LinearRegression()\n",
    "lm.fit(X, Y)\n",
    "Y_pred = lm.predict(X)\n",
    "[lm.intercept_, lm.coef_]"
   ]
  },
  {
   "cell_type": "markdown",
   "metadata": {},
   "source": [
    "The above result (negative slope, of -0.20676881) confirms our intuition that fuel efficiency (\"mpg\") is lower for longer vehicles (\"length\").\n",
    "\n",
    "Now, let's check out the scatter plot of mpg versus length, as well as the fitted/predicted regression line."
   ]
  },
  {
   "cell_type": "code",
   "execution_count": 5,
   "metadata": {},
   "outputs": [
    {
     "data": {
      "image/png": "[encoded data removed]",
      "text/plain": [
       "<Figure size 432x288 with 1 Axes>"
      ]
     },
     "metadata": {
      "needs_background": "light"
     },
     "output_type": "display_data"
    }
   ],
   "source": [
    "import matplotlib.pyplot as plt\n",
    "\n",
    "plt.scatter(X, Y)\n",
    "plt.xlabel('length')\n",
    "plt.ylabel('mpg')\n",
    "plt.plot(X, Y_pred, color='red')\n",
    "plt.show()"
   ]
  },
  {
   "cell_type": "markdown",
   "metadata": {},
   "source": [
    "# Objective\n",
    "\n",
    "\n",
    "Replicate the results of the above linear regression, $mpg = w_0 + w_1 \\cdot length$, using an [artificial neuron](https://machinelearningknowledge.ai/wp-content/uploads/2019/06/Artificial-Neuron-Working.gif) (which is the basic element of a [neural network](https://youtu.be/aircAruvnKk)). \n",
    "\n",
    "$w_0$ and $w_1$ are generally known as the _bias_ and _weight_ respectively.\n",
    "\n",
    "*For the neural network to have the same intercept and cofficient as in linear regression*: No hidden layer. No activation function. No data normalization. Use entire dataset for training (i.e., do not separate dataset into training, validation, and testing). \n",
    "\n",
    "\n",
    "# Your Task:\n",
    "\n",
    "1. Replicate the above linear regression with Tensorflow.Keras. [This example](https://www.tensorflow.org/tutorials/keras/regression) may be helpful to get you started. In your trained/fitted model, the final weight and bias should be equal to the above (i.e., weight of -0.20676881, and bias of 60.15586182). Check if it is so.\n",
    "\n",
    "2. Repeat with [sklearn.MLPRegressor](https://scikit-learn.org/stable/modules/generated/sklearn.neural_network.MLPRegressor.html). As before, no hidden layer / activation function. Use \"linear / identity\" for the [activation function](https://scikit-learn.org/stable/modules/generated/sklearn.neural_network.MLPRegressor.html) if it must be specified. \"linear / identity\" means that $f(x) = x$.\n"
   ]
  },
  {
   "cell_type": "code",
   "execution_count": null,
   "metadata": {},
   "outputs": [],
   "source": []
  }
 ],
 "metadata": {
  "kernelspec": {
   "display_name": "Python 3",
   "language": "python",
   "name": "python3"
  },
  "language_info": {
   "codemirror_mode": {
    "name": "ipython",
    "version": 3
   },
   "file_extension": ".py",
   "mimetype": "text/x-python",
   "name": "python",
   "nbconvert_exporter": "python",
   "pygments_lexer": "ipython3",
   "version": "3.7.7"
  }
 },
 "nbformat": 4,
 "nbformat_minor": 4
}

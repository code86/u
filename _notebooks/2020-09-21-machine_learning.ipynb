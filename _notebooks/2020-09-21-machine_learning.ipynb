{
 "cells": [
  {
   "cell_type": "markdown",
   "metadata": {},
   "source": [
    "# \"weekly exercise\"\n",
    "> \"tensorflow/keras; sklearn; \"\n",
    "\n",
    "- toc: false\n",
    "- branch: master\n",
    "- badges: false\n",
    "- comments: true\n",
    "- hide: true\n",
    "- search_exclude: true"
   ]
  },
  {
   "cell_type": "markdown",
   "metadata": {},
   "source": [
    "# Linear Regression \n",
    "\n",
    "Let us first review linear regression. \n",
    "\n",
    "Your exercise is to repeat the following analysis using a neural network. "
   ]
  },
  {
   "cell_type": "code",
   "execution_count": 1,
   "metadata": {},
   "outputs": [],
   "source": [
    "import numpy as np\n",
    "import pandas as pd\n",
    "\n",
    "df1 = pd.read_stata('http://www.stata-press.com/data/r11/auto.dta')"
   ]
  },
  {
   "cell_type": "code",
   "execution_count": 6,
   "metadata": {},
   "outputs": [
    {
     "data": {
      "text/plain": [
       "[array([39.44028353]), array([[-0.00600869]])]"
      ]
     },
     "execution_count": 6,
     "metadata": {},
     "output_type": "execute_result"
    }
   ],
   "source": [
    "from sklearn import linear_model as lm\n",
    "\n",
    "X = df1[['weight']].to_numpy()\n",
    "Y = df1[['mpg']].to_numpy()\n",
    "lm = lm.LinearRegression()\n",
    "lm.fit(X, Y)\n",
    "Y_pred = lm.predict(X)\n",
    "[lm.intercept_, lm.coef_]"
   ]
  },
  {
   "cell_type": "markdown",
   "metadata": {},
   "source": [
    "The above result (negative slope, of -0.0060) confirms our intuition that fuel efficiency (in terms of miles per gallon, mpg) is lower for heavier vehicles.\n",
    "\n",
    "Now, let's check out the scatter plot of mpg versus weight, as well as the fitted/predicted regression line."
   ]
  },
  {
   "cell_type": "code",
   "execution_count": 7,
   "metadata": {},
   "outputs": [
    {
     "data": {
      "image/png": "[encoded data removed]",
      "text/plain": [
       "<Figure size 432x288 with 1 Axes>"
      ]
     },
     "metadata": {
      "needs_background": "light"
     },
     "output_type": "display_data"
    }
   ],
   "source": [
    "import matplotlib.pyplot as plt\n",
    "\n",
    "plt.scatter(X, Y)\n",
    "plt.xlabel('weight')\n",
    "plt.ylabel('mpg')\n",
    "plt.plot(X, Y_pred, color='red')\n",
    "plt.show()"
   ]
  },
  {
   "cell_type": "markdown",
   "metadata": {},
   "source": [
    "# Your Task\n",
    "\n",
    "\n",
    "Replicate the above [linear regression](https://developers.google.com/machine-learning/crash-course/descending-into-ml/linear-regression), $mpg = w_0 + w_1 \\cdot weight$, using a simple [neural network](https://youtu.be/aircAruvnKk). \n",
    "\n",
    "$w_0$ and $w_0$ are generally known as the _bias_ and _weight_ respectively.\n",
    "\n",
    "\n",
    "Your Exercise:\n",
    "\n",
    "1. Replicate the above linear regression using an [artificial neuron](https://machinelearningknowledge.ai/wp-content/uploads/2019/06/Artificial-Neuron-Working.gif) with Tensorflow.Keras. [This example](https://www.tensorflow.org/tutorials/keras/regression) may be helpful to get you started. *To get the same intercept and cofficient as in linear regression*: No hidden layer. No activation function. No data normalization. Use entire dataset for training (i.e., no need to separate the dataset into training / validation / testing). In your trained/fitted model, the final weight and bias should be equal to the above (i.e., weight of -0.0060, and bias of 39.44). Check if it is so.\n",
    "\n",
    "\n",
    "2. Repeat with [sklearn.MLPRegressor](https://scikit-learn.org/stable/modules/generated/sklearn.neural_network.MLPRegressor.html). As before, no hidden layer / activation function. Use \"linear / identity\" for the [activation function](https://scikit-learn.org/stable/modules/generated/sklearn.neural_network.MLPRegressor.html) if it must be specified. \"linear / identity\" means that $f(x) = x$.\n"
   ]
  },
  {
   "cell_type": "code",
   "execution_count": null,
   "metadata": {},
   "outputs": [],
   "source": []
  }
 ],
 "metadata": {
  "kernelspec": {
   "display_name": "Python 3",
   "language": "python",
   "name": "python3"
  },
  "language_info": {
   "codemirror_mode": {
    "name": "ipython",
    "version": 3
   },
   "file_extension": ".py",
   "mimetype": "text/x-python",
   "name": "python",
   "nbconvert_exporter": "python",
   "pygments_lexer": "ipython3",
   "version": "3.7.7"
  }
 },
 "nbformat": 4,
 "nbformat_minor": 4
}
